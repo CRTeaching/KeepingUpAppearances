{
 "cells": [
  {
   "cell_type": "code",
   "execution_count": 1,
   "metadata": {},
   "outputs": [],
   "source": [
    "from skimage.color import rgb2lab, lab2rgb, rgb2gray, xyz2lab\n",
    "from skimage.io import imsave\n",
    "import numpy as np\n",
    "import os\n",
    "import random\n",
    "#import tensorflow as tf\n",
    "\n",
    "\n",
    "# porting part from keras to PyTorch\n",
    "# keras\n",
    "#from keras.layers import Conv2D, UpSampling2D, InputLayer, Conv2DTranspose\n",
    "#from keras.layers import Activation, Dense, Dropout, Flatten\n",
    "#from keras.layers.normalization import BatchNormalization\n",
    "#from keras.models import Sequential\n",
    "#from keras.preprocessing.image import ImageDataGenerator, array_to_img, img_to_array, load_img\n",
    "\n",
    "# PyTorch\n",
    "import torch\n",
    "import torch.nn"
   ]
  },
  {
   "cell_type": "code",
   "execution_count": 38,
   "metadata": {},
   "outputs": [
    {
     "data": {
      "text/plain": [
       "(400, 400, 4)"
      ]
     },
     "execution_count": 38,
     "metadata": {},
     "output_type": "execute_result"
    }
   ],
   "source": [
    "# Get images\n",
    "#image = img_to_array(load_img('woman.jpg'))\n",
    "#image = np.array(image, dtype=float)\n",
    "\n",
    "#image = torch.utils.data.DataLoader(dataset=\"woman.jpg\")\n",
    "\n",
    "#Deep learning pdf attempt\n",
    "import imageio\n",
    "img_arr = imageio.imread('woman.jpg')\n",
    "img_arr.shape #(400,400, 4) 3 dimensions, 2 spacial (width&height), 1 color channel (RGB)\n",
    "#type(img_arr)"
   ]
  },
  {
   "cell_type": "code",
   "execution_count": 39,
   "metadata": {},
   "outputs": [],
   "source": [
    "#convert numpy-like array into Tensor\n",
    "#img2 = torch.Tensor(img_arr) - instead of 255 it's 255.\n",
    "img = torch.from_numpy(img_arr)"
   ]
  },
  {
   "cell_type": "code",
   "execution_count": 29,
   "metadata": {},
   "outputs": [],
   "source": [
    "#now, change the layout of the Tensor by Transposing it\n",
    "#PyTorch modules that work with images need them to be in C x H x W order (channel, height, width)\n",
    "#so far the image is in W x H x C layout\n",
    "#let's swap the first and last channel.\n",
    "out = torch.transpose(img, 0, 2)\n",
    "#changing img, changes out!!!\n",
    "\n",
    "#to create a data set of multiple images to use as an input for your neural networks,\n",
    "#you store the images in a batch along the first dimension to obtain aN x C x H x W tensor"
   ]
  },
  {
   "cell_type": "code",
   "execution_count": 30,
   "metadata": {},
   "outputs": [],
   "source": [
    "# A more efficient way to using stack to build up a tensor is to preallocate a tensor of appropriate size\n",
    "# and fill it with images loaded from a directory.\n",
    "#This indicates that the batch consists of 100 pictures, 256x256 in size.\n",
    "#Dtype is set to int8 as that's the standard value in most cameras.\n",
    "\n",
    "\n",
    "batch_size = 100\n",
    "batch = torch.zeros(100, 3, 256, 256, dtype=torch.uint8)"
   ]
  },
  {
   "cell_type": "code",
   "execution_count": 34,
   "metadata": {},
   "outputs": [],
   "source": [
    "#import os\n",
    "#os.getcwd() - get current working directory"
   ]
  },
  {
   "cell_type": "code",
   "execution_count": 35,
   "metadata": {},
   "outputs": [],
   "source": [
    "#Loading all images from a directory and saving them in a tensor.\n",
    "import os\n",
    "data_dir = \"/home/hyperlink/Desktop/KeepingUpAppearances-master/\"\n",
    "\n",
    "#get all .jpg items in this dir\n",
    "filenames = [name for name in os.listdir(data_dir) if os.path.splitext(name) == \".jpg\"]\n",
    "\n",
    "for i, filename in enumerate(filenames):\n",
    "    img_arr = imageio.imread(filename)\n",
    "    #correct the images to the correct layer order.\n",
    "    batch[i] = torch.transpose(torch.from_numpy(img_arr), 0, 2)\n"
   ]
  },
  {
   "cell_type": "code",
   "execution_count": 41,
   "metadata": {},
   "outputs": [],
   "source": [
    "#Neural Networks have the best performance with input data values between (0 and 1) or (-1 and 1)\n",
    "#They also usually work with floating-point tensors as their input.\n",
    "#A typical think you might need to do is cast the tensor to float, which is easy.\n",
    "batch = batch.float()\n",
    "#Second thing you might want to do is to normalise the data (flatten it to values between 0s and 1s)\n",
    "#This is a bit trickier, but one of the things people can do is divide the number by 255.\n",
    "#255 is the maximum representable number in 8-bit unsigned int\n",
    "batch /= 255.0\n",
    "\n",
    "#ALTERNATIVE\n",
    "#You could also compute the mean and standard deviation of the input data and scale it.\n",
    "#Make it so that the output has zero mean and and unit standard deviation across each channel.\n",
    "#Produces a RuntimeError that it got Byte instead of floating type in mean = torch. line\n",
    "#n_channels = batch.shape[1]\n",
    "#for c in range(n_channels):\n",
    "#     mean = torch.mean(batch[:, c])\n",
    "#     std = torch.std(batch[:, c])\n",
    "#     batch[:, c] = (batch[:, c]-mean) / std\n",
    "\n",
    "#You can perform several other operations on inputs.\n",
    "#One of those is called geometric transformations, such as rotation, scaling, and cropping.\n",
    "#This operations might help with training."
   ]
  },
  {
   "cell_type": "code",
   "execution_count": null,
   "metadata": {},
   "outputs": [],
   "source": []
  }
 ],
 "metadata": {
  "kernelspec": {
   "display_name": "Python 3",
   "language": "python",
   "name": "python3"
  },
  "language_info": {
   "codemirror_mode": {
    "name": "ipython",
    "version": 3
   },
   "file_extension": ".py",
   "mimetype": "text/x-python",
   "name": "python",
   "nbconvert_exporter": "python",
   "pygments_lexer": "ipython3",
   "version": "3.7.3"
  }
 },
 "nbformat": 4,
 "nbformat_minor": 4
}
