{
 "cells": [
  {
   "cell_type": "code",
   "execution_count": 54,
   "metadata": {},
   "outputs": [],
   "source": [
    "#import numpy as np\n",
    "import os # will use later on for getting the datasaet as well as saving the model and output. \n",
    "\n",
    "# PyTorch\n",
    "import torch\n",
    "import torch.nn as nn\n",
    "import torch.nn.functional as F\n",
    "import torch.optim as optim\n",
    "from torchvision import transforms#, datasets\n",
    "\n",
    "# Image processing:\n",
    "from PIL import Image, ImageCms"
   ]
  },
  {
   "cell_type": "code",
   "execution_count": 66,
   "metadata": {},
   "outputs": [
    {
     "name": "stdout",
     "output_type": "stream",
     "text": [
      "(224, 224)\n",
      "torch.Size([1, 224, 224])\n"
     ]
    }
   ],
   "source": [
    "#THIS IS MY ATTEMPT AT TRANSFERING THE KERAS BASELINE INTO PYTORCH -- tensors have different values do the ones\n",
    "# to be ignored for now!!!!\n",
    "#from skimage.color import rgb2lab, lab2rgb, rgb2gray, xyz2lab\n",
    "#from skimage.io import imsave\n",
    "#from keras.preprocessing.image import img_to_array, load_img\n",
    "#import numpy as np\n",
    "# Get images\n",
    "#image = img_to_array(load_img('domddcz.png'))\n",
    "#image = np.array(image, dtype=float)\n",
    "#X = rgb2lab(1.0/255*image)[:,:,0]\n",
    "#Y = rgb2lab(1.0/255*image)[:,:,1:]\n",
    "#print(X.shape)\n",
    "# Transform the data to a tensor -- move from keras to pytorch.\n",
    "#X = transforms.ToTensor()(X)\n",
    "#Y = transforms.ToTensor()(Y)\n",
    "#print(X.shape)\n",
    "# Output colorizations\n",
    "#cur = np.zeros((400, 400, 3))\n",
    "#cur[:,:,0] = X[0][:,:,0]\n",
    "#cur[:,:,1:] = output[0]\n",
    "#imsave(\"ehhhhhhhhhhhhhhhhhhhh123.png\", lab2rgb(cur))\n",
    "#im = transforms.ToPILImage()(X).convert(\"L\")\n",
    "#im.save('test.jpg', \"JPEG\")\n",
    "#print(X)"
   ]
  },
  {
   "cell_type": "code",
   "execution_count": 2,
   "metadata": {},
   "outputs": [],
   "source": [
    "# Get images\n",
    "# Open image and discard alpha channel which makes wheel round rather than square\n",
    "img_arr = Image.open(\"domddcz.png\").convert('RGB')\n",
    "# create a greyscale image #img_gray = Image.open('woman.jpg').convert('L')"
   ]
  },
  {
   "cell_type": "code",
   "execution_count": 3,
   "metadata": {},
   "outputs": [],
   "source": [
    "# Convert the picture into Lab colourspace\n",
    "srgb_p = ImageCms.createProfile(\"sRGB\")\n",
    "lab_p  = ImageCms.createProfile(\"LAB\")\n",
    "\n",
    "rgb2lab = ImageCms.buildTransformFromOpenProfiles(srgb_p, lab_p, \"RGB\", \"LAB\")\n",
    "Lab = ImageCms.applyTransform(img_arr, rgb2lab)"
   ]
  },
  {
   "cell_type": "code",
   "execution_count": 47,
   "metadata": {},
   "outputs": [],
   "source": [
    "#Get the Lightness channel, a&b channels don't matter too much for now. Maybe add them together later on.\n",
    "image_lightnesses = Lab.getchannel('L')\n",
    "#image_a = Lab.getchannel('A')\n",
    "#image_b = Lab.getchannel('B')\n",
    "#a.save('wtf.png')"
   ]
  },
  {
   "cell_type": "code",
   "execution_count": 5,
   "metadata": {},
   "outputs": [],
   "source": [
    "#Rescale the picture: --works\n",
    "#Lab_test = Lab_test.view(-1, 3, 224, 224)\n",
    "\n",
    "image_lightness = transforms.ToTensor()(image_lightnesses)\n",
    "#Lab_test[:,:,0] # get the first channel --BROKEN\n",
    "#image_ab = Lab_test[:,:,1:] #get the other 2 channels."
   ]
  },
  {
   "cell_type": "code",
   "execution_count": 28,
   "metadata": {},
   "outputs": [],
   "source": [
    "def weights_init(model):\n",
    "    if type(model) in [nn.Conv2d, nn.Linear]:\n",
    "        nn.init.xavier_normal_(model.weight.data)\n",
    "        nn.init.constant_(model.bias.data, 0.1)\n",
    "\n",
    "class Net(nn.Module):\n",
    "\n",
    "    def __init__(self):\n",
    "        super(Net, self).__init__()\n",
    "        self.features = nn.Sequential(\n",
    "            # conv1\n",
    "            nn.Conv2d(in_channels = 1, out_channels = 64, kernel_size = 3, stride = 1, padding = 1),\n",
    "            nn.ReLU(),\n",
    "            nn.Conv2d(in_channels = 64, out_channels = 64, kernel_size = 3, stride = 2, padding = 1),\n",
    "            nn.ReLU(),\n",
    "            nn.BatchNorm2d(num_features = 64),\n",
    "            # conv2\n",
    "            nn.Conv2d(in_channels = 64, out_channels = 128, kernel_size = 3, stride = 1, padding = 1),\n",
    "            nn.ReLU(),\n",
    "            nn.Conv2d(in_channels = 128, out_channels = 128, kernel_size = 3, stride = 2, padding = 1),\n",
    "            nn.ReLU(),\n",
    "            nn.BatchNorm2d(num_features = 128),\n",
    "            # conv3\n",
    "            nn.Conv2d(in_channels = 128, out_channels = 256, kernel_size = 3, stride = 1, padding = 1),\n",
    "            nn.ReLU(),\n",
    "            nn.Conv2d(in_channels = 256, out_channels = 256, kernel_size = 3, stride = 1, padding = 1),\n",
    "            nn.ReLU(),\n",
    "            nn.Conv2d(in_channels = 256, out_channels = 256, kernel_size = 3, stride = 2, padding = 1),\n",
    "            nn.ReLU(),\n",
    "            nn.BatchNorm2d(num_features = 256),\n",
    "            # conv4\n",
    "            nn.Conv2d(in_channels = 256, out_channels = 512, kernel_size = 3, stride = 1, padding = 1),\n",
    "            nn.ReLU(),\n",
    "            nn.Conv2d(in_channels = 512, out_channels = 512, kernel_size = 3, stride = 1, padding = 1),\n",
    "            nn.ReLU(),\n",
    "            nn.Conv2d(in_channels = 512, out_channels = 512, kernel_size = 3, stride = 1, padding = 1),\n",
    "            nn.ReLU(),\n",
    "            nn.BatchNorm2d(num_features = 512),\n",
    "            # conv5\n",
    "            nn.Conv2d(in_channels = 512, out_channels = 512, kernel_size = 3, stride = 1, padding = 2, dilation = 2),\n",
    "            nn.ReLU(),\n",
    "            nn.Conv2d(in_channels = 512, out_channels = 512, kernel_size = 3, stride = 1, padding = 2, dilation = 2),\n",
    "            nn.ReLU(),\n",
    "            nn.Conv2d(in_channels = 512, out_channels = 512, kernel_size = 3, stride = 1, padding = 2, dilation = 2),\n",
    "            nn.ReLU(),\n",
    "            nn.BatchNorm2d(num_features = 512),\n",
    "            # conv6\n",
    "            nn.ReLU(),\n",
    "            nn.Conv2d(in_channels = 512, out_channels = 512, kernel_size = 3, stride = 1, padding = 2, dilation = 2),\n",
    "            nn.ReLU(),\n",
    "            nn.Conv2d(in_channels = 512, out_channels = 512, kernel_size = 3, stride = 1, padding = 2, dilation = 2),\n",
    "            nn.ReLU(),\n",
    "            nn.Conv2d(in_channels = 512, out_channels = 512, kernel_size = 3, stride = 1, padding = 2, dilation = 2),\n",
    "            nn.ReLU(),\n",
    "            nn.BatchNorm2d(num_features = 512),\n",
    "            # conv7\n",
    "            nn.Conv2d(in_channels = 512, out_channels = 512, kernel_size = 3, stride = 1, padding = 1, dilation = 1),\n",
    "            nn.ReLU(),\n",
    "            nn.Conv2d(in_channels = 512, out_channels = 512, kernel_size = 3, stride = 1, padding = 1, dilation = 1),\n",
    "            nn.ReLU(),\n",
    "            nn.Conv2d(in_channels = 512, out_channels = 512, kernel_size = 3, stride = 1, padding = 1, dilation = 1),\n",
    "            nn.ReLU(),\n",
    "            nn.BatchNorm2d(num_features = 512),\n",
    "            # conv8\n",
    "            nn.ConvTranspose2d(in_channels = 512, out_channels = 256, kernel_size = 4, stride = 2, padding = 1, dilation = 1),\n",
    "            nn.ReLU(),\n",
    "            nn.Conv2d(in_channels = 256, out_channels = 256, kernel_size = 3, stride = 1, padding = 1, dilation = 1),\n",
    "            nn.ReLU(),\n",
    "            nn.Conv2d(in_channels = 256, out_channels = 256, kernel_size = 3, stride = 1, padding = 1, dilation = 1),\n",
    "            nn.ReLU(),\n",
    "            # conv8_313\n",
    "            nn.Conv2d(in_channels = 256, out_channels = 224, kernel_size = 1, stride = 1,dilation = 1),\n",
    "            #eltwise product\n",
    "            # softmax\n",
    "            #nn.Softmax(dim=1),\n",
    "            # decoding\n",
    "            #nn.Conv2d(in_channels = 313, out_channels = 2, kernel_size = 1, stride = 1)\n",
    "        )\n",
    "        self.apply(weights_init)\n",
    "\n",
    "    def forward(self, gray_image):\n",
    "        # Zhang doesn't use pooling. Up/down-sampling it is.\n",
    "        # Max pooling over a (2, 2) window #x = F.max_pool2d(F.relu(self.conv1(x)), (2, 2))\n",
    "        # If the size is a square you can only specify a single number\n",
    "        #x = x.view(-1, self.num_flat_features(x)) - interesting part\n",
    "        \n",
    "        #print('gray_image',gray_image.size())\n",
    "        features=self.features(gray_image)\n",
    "        gray_image=gray_image/0.38\n",
    "        return gray_image"
   ]
  },
  {
   "cell_type": "code",
   "execution_count": 29,
   "metadata": {},
   "outputs": [],
   "source": [
    "test = Net()"
   ]
  },
  {
   "cell_type": "code",
   "execution_count": 30,
   "metadata": {},
   "outputs": [],
   "source": [
    "# Loss and optimizer\n",
    "criterion = nn.CrossEntropyLoss(reduction='none').cuda()\n",
    "params = list(test.parameters())\n",
    "optimizer = torch.optim.Adam(params, lr = 0.001) #args.learning_rate"
   ]
  },
  {
   "cell_type": "code",
   "execution_count": 31,
   "metadata": {},
   "outputs": [
    {
     "name": "stdout",
     "output_type": "stream",
     "text": [
      "torch.Size([1, 1, 224, 224])\n"
     ]
    }
   ],
   "source": [
    "print(image_lightness.shape)"
   ]
  },
  {
   "cell_type": "code",
   "execution_count": 15,
   "metadata": {},
   "outputs": [
    {
     "name": "stdout",
     "output_type": "stream",
     "text": [
      "0\n",
      "1\n",
      "2\n",
      "3\n",
      "4\n",
      "5\n",
      "6\n",
      "7\n",
      "8\n",
      "9\n",
      "10\n",
      "11\n",
      "12\n",
      "13\n",
      "14\n",
      "15\n",
      "16\n",
      "17\n",
      "18\n",
      "19\n",
      "20\n",
      "21\n",
      "22\n",
      "23\n",
      "24\n",
      "25\n",
      "26\n",
      "27\n",
      "28\n",
      "29\n",
      "30\n",
      "31\n",
      "32\n",
      "33\n",
      "34\n",
      "35\n",
      "36\n",
      "37\n",
      "38\n",
      "39\n",
      "40\n",
      "41\n",
      "42\n",
      "43\n",
      "44\n",
      "45\n",
      "46\n",
      "47\n",
      "48\n",
      "49\n",
      "50\n",
      "51\n",
      "52\n",
      "53\n",
      "54\n",
      "55\n",
      "56\n",
      "57\n",
      "58\n",
      "59\n",
      "60\n",
      "61\n",
      "62\n",
      "63\n",
      "64\n",
      "65\n",
      "66\n",
      "67\n",
      "68\n",
      "69\n",
      "70\n",
      "71\n",
      "72\n",
      "73\n",
      "74\n",
      "75\n",
      "76\n",
      "77\n",
      "78\n",
      "79\n",
      "80\n",
      "81\n",
      "82\n",
      "83\n",
      "84\n",
      "85\n",
      "86\n",
      "87\n",
      "88\n",
      "89\n",
      "90\n",
      "91\n",
      "92\n",
      "93\n",
      "94\n",
      "95\n",
      "96\n",
      "97\n",
      "98\n",
      "99\n"
     ]
    }
   ],
   "source": [
    "# Train the models\n",
    "#total_step = len(data_loader)\n",
    "image_lightness = image_lightness.view(-1, 1, 224, 224) \n",
    "#image_lightness = image_lightness.unsqueeze(0).float().cuda()\n",
    "\n",
    "for epoch in range(100): #range(args.num_epochs):\n",
    "    #print(epoch)\n",
    "    # Set mini-batch dataset   \n",
    "\n",
    "    outputs = test(image_lightness)\n",
    "    #outputs = test(image_lightness)#.log()\n",
    "    #output=outputs[0].cpu().data.numpy()\n",
    "    \n",
    "    #out_max=np.argmax(output,axis=0)\n",
    "    #print('set',set(out_max.flatten())) # Shows us which set are we working on right now\n",
    "\n",
    "    test.zero_grad()\n",
    "\n",
    "    #loss.backward()\n",
    "    optimizer.step()\n",
    "    print(epoch)\n",
    "    \n",
    "#save the current model for future use.\n",
    "#torch.save(test.state_dict(), 'model-100.ckpt') #, i+"
   ]
  },
  {
   "cell_type": "code",
   "execution_count": 10,
   "metadata": {},
   "outputs": [
    {
     "ename": "NameError",
     "evalue": "name 'outputs' is not defined",
     "output_type": "error",
     "traceback": [
      "\u001b[1;31m---------------------------------------------------------------------------\u001b[0m",
      "\u001b[1;31mNameError\u001b[0m                                 Traceback (most recent call last)",
      "\u001b[1;32m<ipython-input-10-951680bb9de1>\u001b[0m in \u001b[0;36m<module>\u001b[1;34m\u001b[0m\n\u001b[0;32m      4\u001b[0m     \u001b[1;31m#output = output.squeeze(0)\u001b[0m\u001b[1;33m\u001b[0m\u001b[1;33m\u001b[0m\u001b[1;33m\u001b[0m\u001b[0m\n\u001b[0;32m      5\u001b[0m \u001b[1;33m\u001b[0m\u001b[0m\n\u001b[1;32m----> 6\u001b[1;33m \u001b[0mprint\u001b[0m\u001b[1;33m(\u001b[0m\u001b[0moutputs\u001b[0m\u001b[1;33m.\u001b[0m\u001b[0mshape\u001b[0m\u001b[1;33m)\u001b[0m\u001b[1;33m\u001b[0m\u001b[1;33m\u001b[0m\u001b[0m\n\u001b[0m\u001b[0;32m      7\u001b[0m \u001b[1;31m#result = cpu_pred.data.numpy()\u001b[0m\u001b[1;33m\u001b[0m\u001b[1;33m\u001b[0m\u001b[1;33m\u001b[0m\u001b[0m\n\u001b[0;32m      8\u001b[0m \u001b[1;31m#array_res = np.reshape(cpu_pred, (224,224) )\u001b[0m\u001b[1;33m\u001b[0m\u001b[1;33m\u001b[0m\u001b[1;33m\u001b[0m\u001b[0m\n",
      "\u001b[1;31mNameError\u001b[0m: name 'outputs' is not defined"
     ]
    }
   ],
   "source": [
    "# get the result out and reshape it - DON't need that now for some reason.\n",
    "#for epoch in range(100):\n",
    "#    outputs = outputs.squeeze(0)#.float().cuda()\n",
    "    #output = output.squeeze(0)\n",
    "\n",
    "#print(outputs.shape)\n",
    "#result = cpu_pred.data.numpy()\n",
    "#array_res = np.reshape(cpu_pred, (224,224) )\n",
    "#print(array_res)"
   ]
  },
  {
   "cell_type": "code",
   "execution_count": 32,
   "metadata": {},
   "outputs": [
    {
     "name": "stdout",
     "output_type": "stream",
     "text": [
      "torch.Size([224, 224])\n"
     ]
    }
   ],
   "source": [
    "#outputs = outputs.squeeze(0)\n",
    "#test_output = outputs.squeeze(0)\n",
    "#test_output = test_output.squeeze(0)\n",
    "print(test_output.shape)"
   ]
  },
  {
   "cell_type": "code",
   "execution_count": 36,
   "metadata": {},
   "outputs": [],
   "source": [
    "#cpu_pred.type(torch.Float32)\n",
    "#print(im.size)\n",
    "#print(outputs.size)\n",
    "im = transforms.ToPILImage()(test_output)#.convert(\"L\") #.cpu()\n",
    "#im.show()\n",
    "#print(im.size)"
   ]
  },
  {
   "cell_type": "code",
   "execution_count": 34,
   "metadata": {},
   "outputs": [],
   "source": [
    "im.save('ugh.jpg', \"JPEG\")"
   ]
  },
  {
   "cell_type": "code",
   "execution_count": 330,
   "metadata": {},
   "outputs": [],
   "source": [
    "#TRYING TO FOLLOW THE KERAS BASELINE AGAIN, HOPING IT WILL MAKE THE PICTURE RIGHT, instead of 3x224.\n",
    "\n",
    "#cpu_pred *= 128\n",
    "#Output colorizations\n",
    "#cur = np.zeros((224, 224, 3))\n",
    "#cur[:,:,0] = cpu_pred[0][:,:,0] #THIS PART IS BROKEN - LOOK FOR A FIX. \"TOO MANY INDICES FOR ARRAY.\"\n",
    "\n",
    "#cur[:,:,1:] = output[0]\n",
    "#imsave(\"woman_100_img_result.png\", lab2rgb(cur))\n",
    "#imsave(\"woman_100_img_gray_version.png\", rgb2gray(lab2rgb(cur)))"
   ]
  }
 ],
 "metadata": {
  "kernelspec": {
   "display_name": "Python 3",
   "language": "python",
   "name": "python3"
  },
  "language_info": {
   "codemirror_mode": {
    "name": "ipython",
    "version": 3
   },
   "file_extension": ".py",
   "mimetype": "text/x-python",
   "name": "python",
   "nbconvert_exporter": "python",
   "pygments_lexer": "ipython3",
   "version": "3.7.3"
  }
 },
 "nbformat": 4,
 "nbformat_minor": 4
}
