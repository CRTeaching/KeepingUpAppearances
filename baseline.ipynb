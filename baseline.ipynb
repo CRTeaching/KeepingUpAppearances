{
 "cells": [
  {
   "cell_type": "code",
   "execution_count": 13,
   "metadata": {},
   "outputs": [],
   "source": [
    "import numpy as np\n",
    "import os # will use later on for getting the datasaet as well as saving the model and output. \n",
    "import random\n",
    "\n",
    "import tensorflow\n",
    "\n",
    "from keras.layers import Conv2D, UpSampling2D, Conv2DTranspose\n",
    "from keras.layers import Activation, Dense, Dropout, Flatten, InputLayer\n",
    "from keras.layers.normalization import BatchNormalization\n",
    "from keras.callbacks import TensorBoard\n",
    "from keras.models import Sequential\n",
    "from keras.preprocessing.image import ImageDataGenerator, array_to_img, img_to_array, load_img\n",
    "\n",
    "from skimage.color import rgb2lab, lab2rgb, rgb2gray\n",
    "from skimage.io import imsave"
   ]
  },
  {
   "cell_type": "code",
   "execution_count": 14,
   "metadata": {},
   "outputs": [],
   "source": [
    "# Get images\n",
    "X = []\n",
    "number_of_files = 0\n",
    "for filename in os.listdir('Train'):\n",
    "    temporary_img = load_img('Train/'+filename)\n",
    "    temporary_img = img_to_array(temporary_img)\n",
    "    X.append(temporary_img) #add the image to the array.\n",
    "    number_of_files += 1 # count the number of files \n",
    "# Convert standard array to numpy array for future\n",
    "X = np.array(X)#, dtype=float) #float gives error\n",
    "\n",
    "# Set up train and test data\n",
    "split = int(0.95 * len(X) )\n",
    "Xtrain = X[:split]\n",
    "Xtrain = 1.0/255 * Xtrain# divide the numbers in the array by 255 but keep them as float numbers (with 1.0)"
   ]
  },
  {
   "cell_type": "code",
   "execution_count": 15,
   "metadata": {},
   "outputs": [],
   "source": [
    "# Building the neural network\n",
    "model = Sequential()\n",
    "model.add(InputLayer(input_shape=(256, 256, 1)))\n",
    "model.add(Conv2D(64, (3, 3), activation='relu', padding='same'))\n",
    "model.add(Conv2D(64, (3, 3), activation='relu', padding='same', strides=2))\n",
    "model.add(Conv2D(128, (3, 3), activation='relu', padding='same'))\n",
    "model.add(Conv2D(128, (3, 3), activation='relu', padding='same', strides=2))\n",
    "model.add(Conv2D(256, (3, 3), activation='relu', padding='same'))\n",
    "model.add(Conv2D(256, (3, 3), activation='relu', padding='same', strides=2))\n",
    "model.add(Conv2D(512, (3, 3), activation='relu', padding='same'))\n",
    "model.add(Conv2D(256, (3, 3), activation='relu', padding='same'))\n",
    "model.add(Conv2D(128, (3, 3), activation='relu', padding='same'))\n",
    "model.add(UpSampling2D((2, 2)))\n",
    "model.add(Conv2D(64, (3, 3), activation='relu', padding='same'))\n",
    "model.add(UpSampling2D((2, 2)))\n",
    "model.add(Conv2D(32, (3, 3), activation='relu', padding='same'))\n",
    "model.add(Conv2D(2, (3, 3), activation='tanh', padding='same')) #this returns values in range of -1 to 1\n",
    "model.add(UpSampling2D((2, 2)))"
   ]
  },
  {
   "cell_type": "code",
   "execution_count": 16,
   "metadata": {},
   "outputs": [],
   "source": [
    "model.compile(optimizer='rmsprop', loss='mse')"
   ]
  },
  {
   "cell_type": "code",
   "execution_count": 17,
   "metadata": {},
   "outputs": [],
   "source": [
    "# Image transformer\n",
    "# rotate, flip, zoom in on pictures and etc so that the training set becomes larger\n",
    "# improves the accurracy too!\n",
    "datagen = ImageDataGenerator(\n",
    "        shear_range=0.2,\n",
    "        zoom_range=0.2,\n",
    "        rotation_range=20,\n",
    "        horizontal_flip=True)"
   ]
  },
  {
   "cell_type": "code",
   "execution_count": 18,
   "metadata": {},
   "outputs": [],
   "source": [
    "# Generate training data\n",
    "batch_size = 10\n",
    "def image_a_b_gen(batch_size):\n",
    "    #for every picture get its L and ab channels and save them for later\n",
    "    for batch in datagen.flow(Xtrain):#, batch_size=batch_size):\n",
    "        lab_batch = rgb2lab(batch)\n",
    "        X_batch = lab_batch[:,:,:,0] # get the lightness channel\n",
    "        Y_batch = lab_batch[:,:,:,1:] / 128\n",
    "        #yield is like return but it just keeps the variables in the memory, that way it doesn't stop the for loop on 1st loop.\n",
    "        yield (X_batch.reshape(X_batch.shape+(1,)), Y_batch)"
   ]
  },
  {
   "cell_type": "code",
   "execution_count": 22,
   "metadata": {},
   "outputs": [
    {
     "name": "stdout",
     "output_type": "stream",
     "text": [
      "9294\n",
      "(8829, 256, 256, 3)\n"
     ]
    }
   ],
   "source": [
    "print(number_of_files)\n",
    "print(Xtrain.shape) #number of files to train on, the rest is left for testing and evaluating."
   ]
  },
  {
   "cell_type": "code",
   "execution_count": null,
   "metadata": {},
   "outputs": [
    {
     "name": "stdout",
     "output_type": "stream",
     "text": [
      "Epoch 1/1\n",
      "  36/8829 [..............................] - ETA: 30:54:26 - loss: 0.1833"
     ]
    }
   ],
   "source": [
    "# Train model\n",
    "tensorboard = TensorBoard(log_dir=\"output/first_run\")\n",
    "#image_a_b_gen(batch_size) # X elements= 827 # Y elements =  1654\n",
    "tensorboard = [tensorboard]\n",
    "#model.fit(x=X,y=Y,batch_size=20,epochs=1)\n",
    "model.fit_generator(image_a_b_gen(batch_size),\n",
    "                   steps_per_epoch=8829,\n",
    "                   epochs=1)#,use_multiprocessing=True)#, callbacks=tensorboard"
   ]
  },
  {
   "cell_type": "code",
   "execution_count": 8,
   "metadata": {},
   "outputs": [],
   "source": [
    "# Save model\n",
    "model_json = model.to_json()\n",
    "with open(\"model100.json\", \"w\") as json_file:\n",
    "    json_file.write(model_json)\n",
    "model.save_weights(\"model100.h5\")"
   ]
  },
  {
   "cell_type": "code",
   "execution_count": 9,
   "metadata": {},
   "outputs": [
    {
     "name": "stdout",
     "output_type": "stream",
     "text": [
      "1/1 [==============================] - 0s 119ms/step\n",
      "0.0036522254813462496\n"
     ]
    }
   ],
   "source": [
    "# Test images\n",
    "Xtest = rgb2lab(1.0/255*X[split:])[:,:,:,0]\n",
    "Xtest = Xtest.reshape(Xtest.shape+(1,))\n",
    "Ytest = rgb2lab(1.0/255*X[split:])[:,:,:,1:]\n",
    "Ytest = Ytest / 128\n",
    "print(model.evaluate(Xtest, Ytest, batch_size=batch_size))"
   ]
  },
  {
   "cell_type": "code",
   "execution_count": 10,
   "metadata": {},
   "outputs": [],
   "source": [
    "color_me = []\n",
    "for filename in os.listdir('Test/'):\n",
    "    color_me.append(img_to_array(load_img('Test/'+filename)))\n",
    "color_me = np.array(color_me, dtype=float)\n",
    "color_me = rgb2lab(1.0/255*color_me)[:,:,:,0]\n",
    "color_me = color_me.reshape(color_me.shape+(1,))"
   ]
  },
  {
   "cell_type": "code",
   "execution_count": 11,
   "metadata": {},
   "outputs": [],
   "source": [
    "# Test model\n",
    "# save the output from the neural network for given images.\n",
    "output = model.predict(color_me)\n",
    "#the values are between -1 and 1 so to restore the values of ab channels we need to multiply them by 128.\n",
    "output = output * 128"
   ]
  },
  {
   "cell_type": "code",
   "execution_count": 12,
   "metadata": {},
   "outputs": [
    {
     "name": "stdout",
     "output_type": "stream",
     "text": [
      "Saved picture number:  0\n",
      "Saved picture number:  1\n",
      "Saved picture number:  2\n",
      "Saved picture number:  3\n",
      "Saved picture number:  4\n",
      "Saved picture number:  5\n",
      "Saved picture number:  6\n",
      "Saved picture number:  7\n"
     ]
    }
   ],
   "source": [
    "#Save the output\n",
    "from skimage import img_as_ubyte #Add a module that does float64 to uint8 conversion for us\n",
    "\n",
    "# Output colorizations\n",
    "for i in range(len(output)):\n",
    "    # Create an empty matrix that has 3 channels, each 256 x 256 in preparation of the final rgb picture.\n",
    "    create_image = np.zeros((256, 256, 3))\n",
    "    # Fill the first layer with the lightness channel information\n",
    "    create_image[:,:,0] = color_me[i][:,:,0]\n",
    "    #fill the 2nd and 3rd channel with produced output.\n",
    "    create_image[:,:,1:] = output[i]\n",
    "    \n",
    "    create_image = lab2rgb(create_image)\n",
    "    create_image = img_as_ubyte(create_image) #convert float64 to uint8 to avoid lossy conversion.\n",
    "    imsave(\"result/img_\"+str(i)+\".png\", create_image)\n",
    "    print(\"Saved picture number: \", i)"
   ]
  },
  {
   "cell_type": "code",
   "execution_count": null,
   "metadata": {},
   "outputs": [],
   "source": []
  }
 ],
 "metadata": {
  "kernelspec": {
   "display_name": "Python 3",
   "language": "python",
   "name": "python3"
  },
  "language_info": {
   "codemirror_mode": {
    "name": "ipython",
    "version": 3
   },
   "file_extension": ".py",
   "mimetype": "text/x-python",
   "name": "python",
   "nbconvert_exporter": "python",
   "pygments_lexer": "ipython3",
   "version": "3.7.3"
  }
 },
 "nbformat": 4,
 "nbformat_minor": 4
}
